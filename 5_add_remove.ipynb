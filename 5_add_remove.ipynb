{
 "cells": [
  {
   "cell_type": "code",
   "execution_count": 1,
   "id": "0c96d64c-865f-456c-bdbf-52b4cf66fac8",
   "metadata": {},
   "outputs": [],
   "source": [
    "import pandas as pd"
   ]
  },
  {
   "cell_type": "code",
   "execution_count": 2,
   "id": "b4f108ca-afaf-40af-add8-4b970c8304f8",
   "metadata": {},
   "outputs": [],
   "source": [
    "people = {\n",
    "    \"first\": [\"Al\", \"Bhosdu\", \"Babblu\"], \n",
    "    \"last\": [\"Singh\", \"Lullu\", \"Capone\"],\n",
    "    \"email\": [\"as@gmal.com\", \"bl@email.com\", \"bs@email.com\"]\n",
    "}"
   ]
  },
  {
   "cell_type": "code",
   "execution_count": 3,
   "id": "3e55268d-d311-43be-a979-e41eeb8ff5f6",
   "metadata": {},
   "outputs": [],
   "source": [
    "sample_df = pd.DataFrame(people)"
   ]
  },
  {
   "cell_type": "code",
   "execution_count": 5,
   "id": "e2693592-82c9-4d5b-90ca-369aba4f9268",
   "metadata": {},
   "outputs": [
    {
     "data": {
      "text/plain": [
       "0         Al Singh\n",
       "1     Bhosdu Lullu\n",
       "2    Babblu Capone\n",
       "dtype: object"
      ]
     },
     "execution_count": 5,
     "metadata": {},
     "output_type": "execute_result"
    }
   ],
   "source": [
    "sample_df[\"first\"] + \" \" + sample_df[\"last\"]"
   ]
  },
  {
   "cell_type": "code",
   "execution_count": 6,
   "id": "1d329571-f483-41c8-8143-86fd8613d1f1",
   "metadata": {},
   "outputs": [],
   "source": [
    "# Combining columns\n",
    "sample_df[\"full_name\"] = sample_df[\"first\"] + \" \" + sample_df[\"last\"]"
   ]
  },
  {
   "cell_type": "code",
   "execution_count": 7,
   "id": "986b20a7-cd66-4279-bc9c-2d65186d17a9",
   "metadata": {},
   "outputs": [
    {
     "data": {
      "text/html": [
       "<div>\n",
       "<style scoped>\n",
       "    .dataframe tbody tr th:only-of-type {\n",
       "        vertical-align: middle;\n",
       "    }\n",
       "\n",
       "    .dataframe tbody tr th {\n",
       "        vertical-align: top;\n",
       "    }\n",
       "\n",
       "    .dataframe thead th {\n",
       "        text-align: right;\n",
       "    }\n",
       "</style>\n",
       "<table border=\"1\" class=\"dataframe\">\n",
       "  <thead>\n",
       "    <tr style=\"text-align: right;\">\n",
       "      <th></th>\n",
       "      <th>first</th>\n",
       "      <th>last</th>\n",
       "      <th>email</th>\n",
       "      <th>full_name</th>\n",
       "    </tr>\n",
       "  </thead>\n",
       "  <tbody>\n",
       "    <tr>\n",
       "      <th>0</th>\n",
       "      <td>Al</td>\n",
       "      <td>Singh</td>\n",
       "      <td>as@gmal.com</td>\n",
       "      <td>Al Singh</td>\n",
       "    </tr>\n",
       "    <tr>\n",
       "      <th>1</th>\n",
       "      <td>Bhosdu</td>\n",
       "      <td>Lullu</td>\n",
       "      <td>bl@email.com</td>\n",
       "      <td>Bhosdu Lullu</td>\n",
       "    </tr>\n",
       "    <tr>\n",
       "      <th>2</th>\n",
       "      <td>Babblu</td>\n",
       "      <td>Capone</td>\n",
       "      <td>bs@email.com</td>\n",
       "      <td>Babblu Capone</td>\n",
       "    </tr>\n",
       "  </tbody>\n",
       "</table>\n",
       "</div>"
      ],
      "text/plain": [
       "    first    last         email      full_name\n",
       "0      Al   Singh   as@gmal.com       Al Singh\n",
       "1  Bhosdu   Lullu  bl@email.com   Bhosdu Lullu\n",
       "2  Babblu  Capone  bs@email.com  Babblu Capone"
      ]
     },
     "execution_count": 7,
     "metadata": {},
     "output_type": "execute_result"
    }
   ],
   "source": [
    "sample_df"
   ]
  },
  {
   "cell_type": "code",
   "execution_count": 10,
   "id": "bea28a02-a258-474c-8c1e-327a36ba8c15",
   "metadata": {},
   "outputs": [],
   "source": [
    "# Removing columns\n",
    "sample_df.drop(columns=[\"first\", \"last\"], inplace=True)"
   ]
  },
  {
   "cell_type": "code",
   "execution_count": 11,
   "id": "abb74a87-70df-44c5-97c1-471cce636ed7",
   "metadata": {},
   "outputs": [
    {
     "data": {
      "text/html": [
       "<div>\n",
       "<style scoped>\n",
       "    .dataframe tbody tr th:only-of-type {\n",
       "        vertical-align: middle;\n",
       "    }\n",
       "\n",
       "    .dataframe tbody tr th {\n",
       "        vertical-align: top;\n",
       "    }\n",
       "\n",
       "    .dataframe thead th {\n",
       "        text-align: right;\n",
       "    }\n",
       "</style>\n",
       "<table border=\"1\" class=\"dataframe\">\n",
       "  <thead>\n",
       "    <tr style=\"text-align: right;\">\n",
       "      <th></th>\n",
       "      <th>email</th>\n",
       "      <th>full_name</th>\n",
       "    </tr>\n",
       "  </thead>\n",
       "  <tbody>\n",
       "    <tr>\n",
       "      <th>0</th>\n",
       "      <td>as@gmal.com</td>\n",
       "      <td>Al Singh</td>\n",
       "    </tr>\n",
       "    <tr>\n",
       "      <th>1</th>\n",
       "      <td>bl@email.com</td>\n",
       "      <td>Bhosdu Lullu</td>\n",
       "    </tr>\n",
       "    <tr>\n",
       "      <th>2</th>\n",
       "      <td>bs@email.com</td>\n",
       "      <td>Babblu Capone</td>\n",
       "    </tr>\n",
       "  </tbody>\n",
       "</table>\n",
       "</div>"
      ],
      "text/plain": [
       "          email      full_name\n",
       "0   as@gmal.com       Al Singh\n",
       "1  bl@email.com   Bhosdu Lullu\n",
       "2  bs@email.com  Babblu Capone"
      ]
     },
     "execution_count": 11,
     "metadata": {},
     "output_type": "execute_result"
    }
   ],
   "source": [
    "sample_df"
   ]
  },
  {
   "cell_type": "code",
   "execution_count": 12,
   "id": "0427c242-bc26-400c-8c40-b2ed849d9342",
   "metadata": {},
   "outputs": [
    {
     "data": {
      "text/plain": [
       "0         [Al, Singh]\n",
       "1     [Bhosdu, Lullu]\n",
       "2    [Babblu, Capone]\n",
       "Name: full_name, dtype: object"
      ]
     },
     "execution_count": 12,
     "metadata": {},
     "output_type": "execute_result"
    }
   ],
   "source": [
    "sample_df[\"full_name\"].str.split(\" \")"
   ]
  },
  {
   "cell_type": "code",
   "execution_count": 14,
   "id": "390a8c6e-3172-4629-bd6f-56d03430d627",
   "metadata": {},
   "outputs": [
    {
     "data": {
      "text/html": [
       "<div>\n",
       "<style scoped>\n",
       "    .dataframe tbody tr th:only-of-type {\n",
       "        vertical-align: middle;\n",
       "    }\n",
       "\n",
       "    .dataframe tbody tr th {\n",
       "        vertical-align: top;\n",
       "    }\n",
       "\n",
       "    .dataframe thead th {\n",
       "        text-align: right;\n",
       "    }\n",
       "</style>\n",
       "<table border=\"1\" class=\"dataframe\">\n",
       "  <thead>\n",
       "    <tr style=\"text-align: right;\">\n",
       "      <th></th>\n",
       "      <th>0</th>\n",
       "      <th>1</th>\n",
       "    </tr>\n",
       "  </thead>\n",
       "  <tbody>\n",
       "    <tr>\n",
       "      <th>0</th>\n",
       "      <td>Al</td>\n",
       "      <td>Singh</td>\n",
       "    </tr>\n",
       "    <tr>\n",
       "      <th>1</th>\n",
       "      <td>Bhosdu</td>\n",
       "      <td>Lullu</td>\n",
       "    </tr>\n",
       "    <tr>\n",
       "      <th>2</th>\n",
       "      <td>Babblu</td>\n",
       "      <td>Capone</td>\n",
       "    </tr>\n",
       "  </tbody>\n",
       "</table>\n",
       "</div>"
      ],
      "text/plain": [
       "        0       1\n",
       "0      Al   Singh\n",
       "1  Bhosdu   Lullu\n",
       "2  Babblu  Capone"
      ]
     },
     "execution_count": 14,
     "metadata": {},
     "output_type": "execute_result"
    }
   ],
   "source": [
    "sample_df[\"full_name\"].str.split(\" \", expand=True)"
   ]
  },
  {
   "cell_type": "code",
   "execution_count": 15,
   "id": "198cf23e-96a7-4a4a-a84b-557a673eeb5c",
   "metadata": {},
   "outputs": [],
   "source": [
    "sample_df[[\"first\", \"last\"]] = sample_df[\"full_name\"].str.split(\" \", expand=True)"
   ]
  },
  {
   "cell_type": "code",
   "execution_count": 16,
   "id": "fbe40adc-75fc-457e-ae2b-c342e1ef559f",
   "metadata": {},
   "outputs": [
    {
     "data": {
      "text/html": [
       "<div>\n",
       "<style scoped>\n",
       "    .dataframe tbody tr th:only-of-type {\n",
       "        vertical-align: middle;\n",
       "    }\n",
       "\n",
       "    .dataframe tbody tr th {\n",
       "        vertical-align: top;\n",
       "    }\n",
       "\n",
       "    .dataframe thead th {\n",
       "        text-align: right;\n",
       "    }\n",
       "</style>\n",
       "<table border=\"1\" class=\"dataframe\">\n",
       "  <thead>\n",
       "    <tr style=\"text-align: right;\">\n",
       "      <th></th>\n",
       "      <th>email</th>\n",
       "      <th>full_name</th>\n",
       "      <th>first</th>\n",
       "      <th>last</th>\n",
       "    </tr>\n",
       "  </thead>\n",
       "  <tbody>\n",
       "    <tr>\n",
       "      <th>0</th>\n",
       "      <td>as@gmal.com</td>\n",
       "      <td>Al Singh</td>\n",
       "      <td>Al</td>\n",
       "      <td>Singh</td>\n",
       "    </tr>\n",
       "    <tr>\n",
       "      <th>1</th>\n",
       "      <td>bl@email.com</td>\n",
       "      <td>Bhosdu Lullu</td>\n",
       "      <td>Bhosdu</td>\n",
       "      <td>Lullu</td>\n",
       "    </tr>\n",
       "    <tr>\n",
       "      <th>2</th>\n",
       "      <td>bs@email.com</td>\n",
       "      <td>Babblu Capone</td>\n",
       "      <td>Babblu</td>\n",
       "      <td>Capone</td>\n",
       "    </tr>\n",
       "  </tbody>\n",
       "</table>\n",
       "</div>"
      ],
      "text/plain": [
       "          email      full_name   first    last\n",
       "0   as@gmal.com       Al Singh      Al   Singh\n",
       "1  bl@email.com   Bhosdu Lullu  Bhosdu   Lullu\n",
       "2  bs@email.com  Babblu Capone  Babblu  Capone"
      ]
     },
     "execution_count": 16,
     "metadata": {},
     "output_type": "execute_result"
    }
   ],
   "source": [
    "sample_df"
   ]
  },
  {
   "cell_type": "code",
   "execution_count": 25,
   "id": "011a2dac-5c15-4559-9512-42856e17e4a0",
   "metadata": {},
   "outputs": [],
   "source": [
    "# Add single row\n",
    "sample_df = pd.concat([sample_df, pd.DataFrame.from_records([{\"first\": \"Chaman\"}])])"
   ]
  },
  {
   "cell_type": "code",
   "execution_count": 26,
   "id": "8d73ae6c-85a7-4be5-9d8c-928079e4166f",
   "metadata": {},
   "outputs": [
    {
     "data": {
      "text/html": [
       "<div>\n",
       "<style scoped>\n",
       "    .dataframe tbody tr th:only-of-type {\n",
       "        vertical-align: middle;\n",
       "    }\n",
       "\n",
       "    .dataframe tbody tr th {\n",
       "        vertical-align: top;\n",
       "    }\n",
       "\n",
       "    .dataframe thead th {\n",
       "        text-align: right;\n",
       "    }\n",
       "</style>\n",
       "<table border=\"1\" class=\"dataframe\">\n",
       "  <thead>\n",
       "    <tr style=\"text-align: right;\">\n",
       "      <th></th>\n",
       "      <th>email</th>\n",
       "      <th>full_name</th>\n",
       "      <th>first</th>\n",
       "      <th>last</th>\n",
       "    </tr>\n",
       "  </thead>\n",
       "  <tbody>\n",
       "    <tr>\n",
       "      <th>0</th>\n",
       "      <td>as@gmal.com</td>\n",
       "      <td>Al Singh</td>\n",
       "      <td>Al</td>\n",
       "      <td>Singh</td>\n",
       "    </tr>\n",
       "    <tr>\n",
       "      <th>1</th>\n",
       "      <td>bl@email.com</td>\n",
       "      <td>Bhosdu Lullu</td>\n",
       "      <td>Bhosdu</td>\n",
       "      <td>Lullu</td>\n",
       "    </tr>\n",
       "    <tr>\n",
       "      <th>2</th>\n",
       "      <td>bs@email.com</td>\n",
       "      <td>Babblu Capone</td>\n",
       "      <td>Babblu</td>\n",
       "      <td>Capone</td>\n",
       "    </tr>\n",
       "    <tr>\n",
       "      <th>0</th>\n",
       "      <td>NaN</td>\n",
       "      <td>NaN</td>\n",
       "      <td>Chaman</td>\n",
       "      <td>NaN</td>\n",
       "    </tr>\n",
       "  </tbody>\n",
       "</table>\n",
       "</div>"
      ],
      "text/plain": [
       "          email      full_name   first    last\n",
       "0   as@gmal.com       Al Singh      Al   Singh\n",
       "1  bl@email.com   Bhosdu Lullu  Bhosdu   Lullu\n",
       "2  bs@email.com  Babblu Capone  Babblu  Capone\n",
       "0           NaN            NaN  Chaman     NaN"
      ]
     },
     "execution_count": 26,
     "metadata": {},
     "output_type": "execute_result"
    }
   ],
   "source": [
    "sample_df"
   ]
  },
  {
   "cell_type": "code",
   "execution_count": null,
   "id": "1f06b06a-3d27-4522-9b50-be566e358f7f",
   "metadata": {},
   "outputs": [],
   "source": []
  }
 ],
 "metadata": {
  "kernelspec": {
   "display_name": "Python 3 (ipykernel)",
   "language": "python",
   "name": "python3"
  },
  "language_info": {
   "codemirror_mode": {
    "name": "ipython",
    "version": 3
   },
   "file_extension": ".py",
   "mimetype": "text/x-python",
   "name": "python",
   "nbconvert_exporter": "python",
   "pygments_lexer": "ipython3",
   "version": "3.12.2"
  }
 },
 "nbformat": 4,
 "nbformat_minor": 5
}
