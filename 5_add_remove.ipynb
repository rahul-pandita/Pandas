{
 "cells": [
  {
   "cell_type": "code",
   "execution_count": 1,
   "id": "0c96d64c-865f-456c-bdbf-52b4cf66fac8",
   "metadata": {},
   "outputs": [],
   "source": [
    "import pandas as pd"
   ]
  },
  {
   "cell_type": "code",
   "execution_count": 2,
   "id": "b4f108ca-afaf-40af-add8-4b970c8304f8",
   "metadata": {},
   "outputs": [],
   "source": [
    "people = {\n",
    "    \"first\": [\"Al\", \"Bhosdu\", \"Babblu\"], \n",
    "    \"last\": [\"Singh\", \"Lullu\", \"Capone\"],\n",
    "    \"email\": [\"as@gmal.com\", \"bl@email.com\", \"bs@email.com\"]\n",
    "}"
   ]
  },
  {
   "cell_type": "code",
   "execution_count": 3,
   "id": "3e55268d-d311-43be-a979-e41eeb8ff5f6",
   "metadata": {},
   "outputs": [],
   "source": [
    "sample_df = pd.DataFrame(people)"
   ]
  },
  {
   "cell_type": "code",
   "execution_count": 4,
   "id": "e2693592-82c9-4d5b-90ca-369aba4f9268",
   "metadata": {},
   "outputs": [
    {
     "data": {
      "text/plain": [
       "0         Al Singh\n",
       "1     Bhosdu Lullu\n",
       "2    Babblu Capone\n",
       "dtype: object"
      ]
     },
     "execution_count": 4,
     "metadata": {},
     "output_type": "execute_result"
    }
   ],
   "source": [
    "sample_df[\"first\"] + \" \" + sample_df[\"last\"]"
   ]
  },
  {
   "cell_type": "code",
   "execution_count": 5,
   "id": "1d329571-f483-41c8-8143-86fd8613d1f1",
   "metadata": {},
   "outputs": [],
   "source": [
    "# Combining columns\n",
    "sample_df[\"full_name\"] = sample_df[\"first\"] + \" \" + sample_df[\"last\"]"
   ]
  },
  {
   "cell_type": "code",
   "execution_count": 6,
   "id": "986b20a7-cd66-4279-bc9c-2d65186d17a9",
   "metadata": {},
   "outputs": [
    {
     "data": {
      "text/html": [
       "<div>\n",
       "<style scoped>\n",
       "    .dataframe tbody tr th:only-of-type {\n",
       "        vertical-align: middle;\n",
       "    }\n",
       "\n",
       "    .dataframe tbody tr th {\n",
       "        vertical-align: top;\n",
       "    }\n",
       "\n",
       "    .dataframe thead th {\n",
       "        text-align: right;\n",
       "    }\n",
       "</style>\n",
       "<table border=\"1\" class=\"dataframe\">\n",
       "  <thead>\n",
       "    <tr style=\"text-align: right;\">\n",
       "      <th></th>\n",
       "      <th>first</th>\n",
       "      <th>last</th>\n",
       "      <th>email</th>\n",
       "      <th>full_name</th>\n",
       "    </tr>\n",
       "  </thead>\n",
       "  <tbody>\n",
       "    <tr>\n",
       "      <th>0</th>\n",
       "      <td>Al</td>\n",
       "      <td>Singh</td>\n",
       "      <td>as@gmal.com</td>\n",
       "      <td>Al Singh</td>\n",
       "    </tr>\n",
       "    <tr>\n",
       "      <th>1</th>\n",
       "      <td>Bhosdu</td>\n",
       "      <td>Lullu</td>\n",
       "      <td>bl@email.com</td>\n",
       "      <td>Bhosdu Lullu</td>\n",
       "    </tr>\n",
       "    <tr>\n",
       "      <th>2</th>\n",
       "      <td>Babblu</td>\n",
       "      <td>Capone</td>\n",
       "      <td>bs@email.com</td>\n",
       "      <td>Babblu Capone</td>\n",
       "    </tr>\n",
       "  </tbody>\n",
       "</table>\n",
       "</div>"
      ],
      "text/plain": [
       "    first    last         email      full_name\n",
       "0      Al   Singh   as@gmal.com       Al Singh\n",
       "1  Bhosdu   Lullu  bl@email.com   Bhosdu Lullu\n",
       "2  Babblu  Capone  bs@email.com  Babblu Capone"
      ]
     },
     "execution_count": 6,
     "metadata": {},
     "output_type": "execute_result"
    }
   ],
   "source": [
    "sample_df"
   ]
  },
  {
   "cell_type": "code",
   "execution_count": 7,
   "id": "bea28a02-a258-474c-8c1e-327a36ba8c15",
   "metadata": {},
   "outputs": [],
   "source": [
    "# Removing columns\n",
    "sample_df.drop(columns=[\"first\", \"last\"], inplace=True)"
   ]
  },
  {
   "cell_type": "code",
   "execution_count": 8,
   "id": "abb74a87-70df-44c5-97c1-471cce636ed7",
   "metadata": {},
   "outputs": [
    {
     "data": {
      "text/html": [
       "<div>\n",
       "<style scoped>\n",
       "    .dataframe tbody tr th:only-of-type {\n",
       "        vertical-align: middle;\n",
       "    }\n",
       "\n",
       "    .dataframe tbody tr th {\n",
       "        vertical-align: top;\n",
       "    }\n",
       "\n",
       "    .dataframe thead th {\n",
       "        text-align: right;\n",
       "    }\n",
       "</style>\n",
       "<table border=\"1\" class=\"dataframe\">\n",
       "  <thead>\n",
       "    <tr style=\"text-align: right;\">\n",
       "      <th></th>\n",
       "      <th>email</th>\n",
       "      <th>full_name</th>\n",
       "    </tr>\n",
       "  </thead>\n",
       "  <tbody>\n",
       "    <tr>\n",
       "      <th>0</th>\n",
       "      <td>as@gmal.com</td>\n",
       "      <td>Al Singh</td>\n",
       "    </tr>\n",
       "    <tr>\n",
       "      <th>1</th>\n",
       "      <td>bl@email.com</td>\n",
       "      <td>Bhosdu Lullu</td>\n",
       "    </tr>\n",
       "    <tr>\n",
       "      <th>2</th>\n",
       "      <td>bs@email.com</td>\n",
       "      <td>Babblu Capone</td>\n",
       "    </tr>\n",
       "  </tbody>\n",
       "</table>\n",
       "</div>"
      ],
      "text/plain": [
       "          email      full_name\n",
       "0   as@gmal.com       Al Singh\n",
       "1  bl@email.com   Bhosdu Lullu\n",
       "2  bs@email.com  Babblu Capone"
      ]
     },
     "execution_count": 8,
     "metadata": {},
     "output_type": "execute_result"
    }
   ],
   "source": [
    "sample_df"
   ]
  },
  {
   "cell_type": "code",
   "execution_count": 9,
   "id": "0427c242-bc26-400c-8c40-b2ed849d9342",
   "metadata": {},
   "outputs": [
    {
     "data": {
      "text/plain": [
       "0         [Al, Singh]\n",
       "1     [Bhosdu, Lullu]\n",
       "2    [Babblu, Capone]\n",
       "Name: full_name, dtype: object"
      ]
     },
     "execution_count": 9,
     "metadata": {},
     "output_type": "execute_result"
    }
   ],
   "source": [
    "sample_df[\"full_name\"].str.split(\" \")"
   ]
  },
  {
   "cell_type": "code",
   "execution_count": 10,
   "id": "390a8c6e-3172-4629-bd6f-56d03430d627",
   "metadata": {},
   "outputs": [
    {
     "data": {
      "text/html": [
       "<div>\n",
       "<style scoped>\n",
       "    .dataframe tbody tr th:only-of-type {\n",
       "        vertical-align: middle;\n",
       "    }\n",
       "\n",
       "    .dataframe tbody tr th {\n",
       "        vertical-align: top;\n",
       "    }\n",
       "\n",
       "    .dataframe thead th {\n",
       "        text-align: right;\n",
       "    }\n",
       "</style>\n",
       "<table border=\"1\" class=\"dataframe\">\n",
       "  <thead>\n",
       "    <tr style=\"text-align: right;\">\n",
       "      <th></th>\n",
       "      <th>0</th>\n",
       "      <th>1</th>\n",
       "    </tr>\n",
       "  </thead>\n",
       "  <tbody>\n",
       "    <tr>\n",
       "      <th>0</th>\n",
       "      <td>Al</td>\n",
       "      <td>Singh</td>\n",
       "    </tr>\n",
       "    <tr>\n",
       "      <th>1</th>\n",
       "      <td>Bhosdu</td>\n",
       "      <td>Lullu</td>\n",
       "    </tr>\n",
       "    <tr>\n",
       "      <th>2</th>\n",
       "      <td>Babblu</td>\n",
       "      <td>Capone</td>\n",
       "    </tr>\n",
       "  </tbody>\n",
       "</table>\n",
       "</div>"
      ],
      "text/plain": [
       "        0       1\n",
       "0      Al   Singh\n",
       "1  Bhosdu   Lullu\n",
       "2  Babblu  Capone"
      ]
     },
     "execution_count": 10,
     "metadata": {},
     "output_type": "execute_result"
    }
   ],
   "source": [
    "sample_df[\"full_name\"].str.split(\" \", expand=True)"
   ]
  },
  {
   "cell_type": "code",
   "execution_count": 11,
   "id": "198cf23e-96a7-4a4a-a84b-557a673eeb5c",
   "metadata": {},
   "outputs": [],
   "source": [
    "sample_df[[\"first\", \"last\"]] = sample_df[\"full_name\"].str.split(\" \", expand=True)"
   ]
  },
  {
   "cell_type": "code",
   "execution_count": 12,
   "id": "fbe40adc-75fc-457e-ae2b-c342e1ef559f",
   "metadata": {},
   "outputs": [
    {
     "data": {
      "text/html": [
       "<div>\n",
       "<style scoped>\n",
       "    .dataframe tbody tr th:only-of-type {\n",
       "        vertical-align: middle;\n",
       "    }\n",
       "\n",
       "    .dataframe tbody tr th {\n",
       "        vertical-align: top;\n",
       "    }\n",
       "\n",
       "    .dataframe thead th {\n",
       "        text-align: right;\n",
       "    }\n",
       "</style>\n",
       "<table border=\"1\" class=\"dataframe\">\n",
       "  <thead>\n",
       "    <tr style=\"text-align: right;\">\n",
       "      <th></th>\n",
       "      <th>email</th>\n",
       "      <th>full_name</th>\n",
       "      <th>first</th>\n",
       "      <th>last</th>\n",
       "    </tr>\n",
       "  </thead>\n",
       "  <tbody>\n",
       "    <tr>\n",
       "      <th>0</th>\n",
       "      <td>as@gmal.com</td>\n",
       "      <td>Al Singh</td>\n",
       "      <td>Al</td>\n",
       "      <td>Singh</td>\n",
       "    </tr>\n",
       "    <tr>\n",
       "      <th>1</th>\n",
       "      <td>bl@email.com</td>\n",
       "      <td>Bhosdu Lullu</td>\n",
       "      <td>Bhosdu</td>\n",
       "      <td>Lullu</td>\n",
       "    </tr>\n",
       "    <tr>\n",
       "      <th>2</th>\n",
       "      <td>bs@email.com</td>\n",
       "      <td>Babblu Capone</td>\n",
       "      <td>Babblu</td>\n",
       "      <td>Capone</td>\n",
       "    </tr>\n",
       "  </tbody>\n",
       "</table>\n",
       "</div>"
      ],
      "text/plain": [
       "          email      full_name   first    last\n",
       "0   as@gmal.com       Al Singh      Al   Singh\n",
       "1  bl@email.com   Bhosdu Lullu  Bhosdu   Lullu\n",
       "2  bs@email.com  Babblu Capone  Babblu  Capone"
      ]
     },
     "execution_count": 12,
     "metadata": {},
     "output_type": "execute_result"
    }
   ],
   "source": [
    "sample_df"
   ]
  },
  {
   "cell_type": "code",
   "execution_count": 13,
   "id": "011a2dac-5c15-4559-9512-42856e17e4a0",
   "metadata": {},
   "outputs": [],
   "source": [
    "# Add single row\n",
    "sample_df = pd.concat([sample_df, pd.DataFrame.from_records([{\"first\": \"Chaman\"}])], ignore_index=True)"
   ]
  },
  {
   "cell_type": "code",
   "execution_count": 14,
   "id": "8d73ae6c-85a7-4be5-9d8c-928079e4166f",
   "metadata": {},
   "outputs": [
    {
     "data": {
      "text/html": [
       "<div>\n",
       "<style scoped>\n",
       "    .dataframe tbody tr th:only-of-type {\n",
       "        vertical-align: middle;\n",
       "    }\n",
       "\n",
       "    .dataframe tbody tr th {\n",
       "        vertical-align: top;\n",
       "    }\n",
       "\n",
       "    .dataframe thead th {\n",
       "        text-align: right;\n",
       "    }\n",
       "</style>\n",
       "<table border=\"1\" class=\"dataframe\">\n",
       "  <thead>\n",
       "    <tr style=\"text-align: right;\">\n",
       "      <th></th>\n",
       "      <th>email</th>\n",
       "      <th>full_name</th>\n",
       "      <th>first</th>\n",
       "      <th>last</th>\n",
       "    </tr>\n",
       "  </thead>\n",
       "  <tbody>\n",
       "    <tr>\n",
       "      <th>0</th>\n",
       "      <td>as@gmal.com</td>\n",
       "      <td>Al Singh</td>\n",
       "      <td>Al</td>\n",
       "      <td>Singh</td>\n",
       "    </tr>\n",
       "    <tr>\n",
       "      <th>1</th>\n",
       "      <td>bl@email.com</td>\n",
       "      <td>Bhosdu Lullu</td>\n",
       "      <td>Bhosdu</td>\n",
       "      <td>Lullu</td>\n",
       "    </tr>\n",
       "    <tr>\n",
       "      <th>2</th>\n",
       "      <td>bs@email.com</td>\n",
       "      <td>Babblu Capone</td>\n",
       "      <td>Babblu</td>\n",
       "      <td>Capone</td>\n",
       "    </tr>\n",
       "    <tr>\n",
       "      <th>3</th>\n",
       "      <td>NaN</td>\n",
       "      <td>NaN</td>\n",
       "      <td>Chaman</td>\n",
       "      <td>NaN</td>\n",
       "    </tr>\n",
       "  </tbody>\n",
       "</table>\n",
       "</div>"
      ],
      "text/plain": [
       "          email      full_name   first    last\n",
       "0   as@gmal.com       Al Singh      Al   Singh\n",
       "1  bl@email.com   Bhosdu Lullu  Bhosdu   Lullu\n",
       "2  bs@email.com  Babblu Capone  Babblu  Capone\n",
       "3           NaN            NaN  Chaman     NaN"
      ]
     },
     "execution_count": 14,
     "metadata": {},
     "output_type": "execute_result"
    }
   ],
   "source": [
    "sample_df"
   ]
  },
  {
   "cell_type": "code",
   "execution_count": 15,
   "id": "1f06b06a-3d27-4522-9b50-be566e358f7f",
   "metadata": {},
   "outputs": [],
   "source": [
    "p = {\n",
    "    \"first\": [\"Tony\", \"Bruce\"],\n",
    "    \"last\": [\"Stark\", \"Wayne\"],\n",
    "    \"email\": [\"IronMan@avenge.com\", \"Brucey@orphan.com\"]\n",
    "}\n",
    "\n",
    "s_df = pd.DataFrame(p)"
   ]
  },
  {
   "cell_type": "code",
   "execution_count": 16,
   "id": "9be13d7e-d1f4-45ff-b6be-aa9cb06376ed",
   "metadata": {},
   "outputs": [
    {
     "data": {
      "text/html": [
       "<div>\n",
       "<style scoped>\n",
       "    .dataframe tbody tr th:only-of-type {\n",
       "        vertical-align: middle;\n",
       "    }\n",
       "\n",
       "    .dataframe tbody tr th {\n",
       "        vertical-align: top;\n",
       "    }\n",
       "\n",
       "    .dataframe thead th {\n",
       "        text-align: right;\n",
       "    }\n",
       "</style>\n",
       "<table border=\"1\" class=\"dataframe\">\n",
       "  <thead>\n",
       "    <tr style=\"text-align: right;\">\n",
       "      <th></th>\n",
       "      <th>first</th>\n",
       "      <th>last</th>\n",
       "      <th>email</th>\n",
       "    </tr>\n",
       "  </thead>\n",
       "  <tbody>\n",
       "    <tr>\n",
       "      <th>0</th>\n",
       "      <td>Tony</td>\n",
       "      <td>Stark</td>\n",
       "      <td>IronMan@avenge.com</td>\n",
       "    </tr>\n",
       "    <tr>\n",
       "      <th>1</th>\n",
       "      <td>Bruce</td>\n",
       "      <td>Wayne</td>\n",
       "      <td>Brucey@orphan.com</td>\n",
       "    </tr>\n",
       "  </tbody>\n",
       "</table>\n",
       "</div>"
      ],
      "text/plain": [
       "   first   last               email\n",
       "0   Tony  Stark  IronMan@avenge.com\n",
       "1  Bruce  Wayne   Brucey@orphan.com"
      ]
     },
     "execution_count": 16,
     "metadata": {},
     "output_type": "execute_result"
    }
   ],
   "source": [
    "s_df"
   ]
  },
  {
   "cell_type": "code",
   "execution_count": 19,
   "id": "87945c82-51bf-43bf-83af-0f329902dcfe",
   "metadata": {},
   "outputs": [
    {
     "data": {
      "text/html": [
       "<div>\n",
       "<style scoped>\n",
       "    .dataframe tbody tr th:only-of-type {\n",
       "        vertical-align: middle;\n",
       "    }\n",
       "\n",
       "    .dataframe tbody tr th {\n",
       "        vertical-align: top;\n",
       "    }\n",
       "\n",
       "    .dataframe thead th {\n",
       "        text-align: right;\n",
       "    }\n",
       "</style>\n",
       "<table border=\"1\" class=\"dataframe\">\n",
       "  <thead>\n",
       "    <tr style=\"text-align: right;\">\n",
       "      <th></th>\n",
       "      <th>email</th>\n",
       "      <th>full_name</th>\n",
       "      <th>first</th>\n",
       "      <th>last</th>\n",
       "    </tr>\n",
       "  </thead>\n",
       "  <tbody>\n",
       "    <tr>\n",
       "      <th>0</th>\n",
       "      <td>as@gmal.com</td>\n",
       "      <td>Al Singh</td>\n",
       "      <td>Al</td>\n",
       "      <td>Singh</td>\n",
       "    </tr>\n",
       "    <tr>\n",
       "      <th>1</th>\n",
       "      <td>bl@email.com</td>\n",
       "      <td>Bhosdu Lullu</td>\n",
       "      <td>Bhosdu</td>\n",
       "      <td>Lullu</td>\n",
       "    </tr>\n",
       "    <tr>\n",
       "      <th>2</th>\n",
       "      <td>bs@email.com</td>\n",
       "      <td>Babblu Capone</td>\n",
       "      <td>Babblu</td>\n",
       "      <td>Capone</td>\n",
       "    </tr>\n",
       "    <tr>\n",
       "      <th>3</th>\n",
       "      <td>NaN</td>\n",
       "      <td>NaN</td>\n",
       "      <td>Chaman</td>\n",
       "      <td>NaN</td>\n",
       "    </tr>\n",
       "    <tr>\n",
       "      <th>0</th>\n",
       "      <td>IronMan@avenge.com</td>\n",
       "      <td>NaN</td>\n",
       "      <td>Tony</td>\n",
       "      <td>Stark</td>\n",
       "    </tr>\n",
       "    <tr>\n",
       "      <th>1</th>\n",
       "      <td>Brucey@orphan.com</td>\n",
       "      <td>NaN</td>\n",
       "      <td>Bruce</td>\n",
       "      <td>Wayne</td>\n",
       "    </tr>\n",
       "  </tbody>\n",
       "</table>\n",
       "</div>"
      ],
      "text/plain": [
       "                email      full_name   first    last\n",
       "0         as@gmal.com       Al Singh      Al   Singh\n",
       "1        bl@email.com   Bhosdu Lullu  Bhosdu   Lullu\n",
       "2        bs@email.com  Babblu Capone  Babblu  Capone\n",
       "3                 NaN            NaN  Chaman     NaN\n",
       "0  IronMan@avenge.com            NaN    Tony   Stark\n",
       "1   Brucey@orphan.com            NaN   Bruce   Wayne"
      ]
     },
     "execution_count": 19,
     "metadata": {},
     "output_type": "execute_result"
    }
   ],
   "source": [
    "pd.concat([sample_df, s_df])"
   ]
  },
  {
   "cell_type": "code",
   "execution_count": 20,
   "id": "d2e1a99b-5001-4150-801d-413c5cc097d5",
   "metadata": {},
   "outputs": [
    {
     "data": {
      "text/html": [
       "<div>\n",
       "<style scoped>\n",
       "    .dataframe tbody tr th:only-of-type {\n",
       "        vertical-align: middle;\n",
       "    }\n",
       "\n",
       "    .dataframe tbody tr th {\n",
       "        vertical-align: top;\n",
       "    }\n",
       "\n",
       "    .dataframe thead th {\n",
       "        text-align: right;\n",
       "    }\n",
       "</style>\n",
       "<table border=\"1\" class=\"dataframe\">\n",
       "  <thead>\n",
       "    <tr style=\"text-align: right;\">\n",
       "      <th></th>\n",
       "      <th>email</th>\n",
       "      <th>full_name</th>\n",
       "      <th>first</th>\n",
       "      <th>last</th>\n",
       "    </tr>\n",
       "  </thead>\n",
       "  <tbody>\n",
       "    <tr>\n",
       "      <th>0</th>\n",
       "      <td>as@gmal.com</td>\n",
       "      <td>Al Singh</td>\n",
       "      <td>Al</td>\n",
       "      <td>Singh</td>\n",
       "    </tr>\n",
       "    <tr>\n",
       "      <th>1</th>\n",
       "      <td>bl@email.com</td>\n",
       "      <td>Bhosdu Lullu</td>\n",
       "      <td>Bhosdu</td>\n",
       "      <td>Lullu</td>\n",
       "    </tr>\n",
       "    <tr>\n",
       "      <th>2</th>\n",
       "      <td>bs@email.com</td>\n",
       "      <td>Babblu Capone</td>\n",
       "      <td>Babblu</td>\n",
       "      <td>Capone</td>\n",
       "    </tr>\n",
       "    <tr>\n",
       "      <th>3</th>\n",
       "      <td>NaN</td>\n",
       "      <td>NaN</td>\n",
       "      <td>Chaman</td>\n",
       "      <td>NaN</td>\n",
       "    </tr>\n",
       "  </tbody>\n",
       "</table>\n",
       "</div>"
      ],
      "text/plain": [
       "          email      full_name   first    last\n",
       "0   as@gmal.com       Al Singh      Al   Singh\n",
       "1  bl@email.com   Bhosdu Lullu  Bhosdu   Lullu\n",
       "2  bs@email.com  Babblu Capone  Babblu  Capone\n",
       "3           NaN            NaN  Chaman     NaN"
      ]
     },
     "execution_count": 20,
     "metadata": {},
     "output_type": "execute_result"
    }
   ],
   "source": [
    "sample_df"
   ]
  },
  {
   "cell_type": "code",
   "execution_count": 23,
   "id": "51637452-5f8b-419e-b03d-b3adda68fb38",
   "metadata": {},
   "outputs": [],
   "source": [
    "sample_df = pd.concat([sample_df, s_df], ignore_index=True)"
   ]
  },
  {
   "cell_type": "code",
   "execution_count": 24,
   "id": "8c1d24e6-187f-40f2-a7ce-183859ba4afd",
   "metadata": {},
   "outputs": [
    {
     "data": {
      "text/html": [
       "<div>\n",
       "<style scoped>\n",
       "    .dataframe tbody tr th:only-of-type {\n",
       "        vertical-align: middle;\n",
       "    }\n",
       "\n",
       "    .dataframe tbody tr th {\n",
       "        vertical-align: top;\n",
       "    }\n",
       "\n",
       "    .dataframe thead th {\n",
       "        text-align: right;\n",
       "    }\n",
       "</style>\n",
       "<table border=\"1\" class=\"dataframe\">\n",
       "  <thead>\n",
       "    <tr style=\"text-align: right;\">\n",
       "      <th></th>\n",
       "      <th>email</th>\n",
       "      <th>full_name</th>\n",
       "      <th>first</th>\n",
       "      <th>last</th>\n",
       "    </tr>\n",
       "  </thead>\n",
       "  <tbody>\n",
       "    <tr>\n",
       "      <th>0</th>\n",
       "      <td>as@gmal.com</td>\n",
       "      <td>Al Singh</td>\n",
       "      <td>Al</td>\n",
       "      <td>Singh</td>\n",
       "    </tr>\n",
       "    <tr>\n",
       "      <th>1</th>\n",
       "      <td>bl@email.com</td>\n",
       "      <td>Bhosdu Lullu</td>\n",
       "      <td>Bhosdu</td>\n",
       "      <td>Lullu</td>\n",
       "    </tr>\n",
       "    <tr>\n",
       "      <th>2</th>\n",
       "      <td>bs@email.com</td>\n",
       "      <td>Babblu Capone</td>\n",
       "      <td>Babblu</td>\n",
       "      <td>Capone</td>\n",
       "    </tr>\n",
       "    <tr>\n",
       "      <th>3</th>\n",
       "      <td>NaN</td>\n",
       "      <td>NaN</td>\n",
       "      <td>Chaman</td>\n",
       "      <td>NaN</td>\n",
       "    </tr>\n",
       "    <tr>\n",
       "      <th>4</th>\n",
       "      <td>IronMan@avenge.com</td>\n",
       "      <td>NaN</td>\n",
       "      <td>Tony</td>\n",
       "      <td>Stark</td>\n",
       "    </tr>\n",
       "    <tr>\n",
       "      <th>5</th>\n",
       "      <td>Brucey@orphan.com</td>\n",
       "      <td>NaN</td>\n",
       "      <td>Bruce</td>\n",
       "      <td>Wayne</td>\n",
       "    </tr>\n",
       "    <tr>\n",
       "      <th>6</th>\n",
       "      <td>IronMan@avenge.com</td>\n",
       "      <td>NaN</td>\n",
       "      <td>Tony</td>\n",
       "      <td>Stark</td>\n",
       "    </tr>\n",
       "    <tr>\n",
       "      <th>7</th>\n",
       "      <td>Brucey@orphan.com</td>\n",
       "      <td>NaN</td>\n",
       "      <td>Bruce</td>\n",
       "      <td>Wayne</td>\n",
       "    </tr>\n",
       "  </tbody>\n",
       "</table>\n",
       "</div>"
      ],
      "text/plain": [
       "                email      full_name   first    last\n",
       "0         as@gmal.com       Al Singh      Al   Singh\n",
       "1        bl@email.com   Bhosdu Lullu  Bhosdu   Lullu\n",
       "2        bs@email.com  Babblu Capone  Babblu  Capone\n",
       "3                 NaN            NaN  Chaman     NaN\n",
       "4  IronMan@avenge.com            NaN    Tony   Stark\n",
       "5   Brucey@orphan.com            NaN   Bruce   Wayne\n",
       "6  IronMan@avenge.com            NaN    Tony   Stark\n",
       "7   Brucey@orphan.com            NaN   Bruce   Wayne"
      ]
     },
     "execution_count": 24,
     "metadata": {},
     "output_type": "execute_result"
    }
   ],
   "source": [
    "sample_df"
   ]
  },
  {
   "cell_type": "code",
   "execution_count": 25,
   "id": "05ac3ee7-bc57-4673-8379-deefe961b7e8",
   "metadata": {},
   "outputs": [],
   "source": [
    "# Removing rows\n",
    "sample_df.drop(index=3, inplace=True)"
   ]
  },
  {
   "cell_type": "code",
   "execution_count": 26,
   "id": "d7770106-c332-495d-8790-4e39c686d8e5",
   "metadata": {},
   "outputs": [
    {
     "data": {
      "text/html": [
       "<div>\n",
       "<style scoped>\n",
       "    .dataframe tbody tr th:only-of-type {\n",
       "        vertical-align: middle;\n",
       "    }\n",
       "\n",
       "    .dataframe tbody tr th {\n",
       "        vertical-align: top;\n",
       "    }\n",
       "\n",
       "    .dataframe thead th {\n",
       "        text-align: right;\n",
       "    }\n",
       "</style>\n",
       "<table border=\"1\" class=\"dataframe\">\n",
       "  <thead>\n",
       "    <tr style=\"text-align: right;\">\n",
       "      <th></th>\n",
       "      <th>email</th>\n",
       "      <th>full_name</th>\n",
       "      <th>first</th>\n",
       "      <th>last</th>\n",
       "    </tr>\n",
       "  </thead>\n",
       "  <tbody>\n",
       "    <tr>\n",
       "      <th>0</th>\n",
       "      <td>as@gmal.com</td>\n",
       "      <td>Al Singh</td>\n",
       "      <td>Al</td>\n",
       "      <td>Singh</td>\n",
       "    </tr>\n",
       "    <tr>\n",
       "      <th>1</th>\n",
       "      <td>bl@email.com</td>\n",
       "      <td>Bhosdu Lullu</td>\n",
       "      <td>Bhosdu</td>\n",
       "      <td>Lullu</td>\n",
       "    </tr>\n",
       "    <tr>\n",
       "      <th>2</th>\n",
       "      <td>bs@email.com</td>\n",
       "      <td>Babblu Capone</td>\n",
       "      <td>Babblu</td>\n",
       "      <td>Capone</td>\n",
       "    </tr>\n",
       "    <tr>\n",
       "      <th>4</th>\n",
       "      <td>IronMan@avenge.com</td>\n",
       "      <td>NaN</td>\n",
       "      <td>Tony</td>\n",
       "      <td>Stark</td>\n",
       "    </tr>\n",
       "    <tr>\n",
       "      <th>5</th>\n",
       "      <td>Brucey@orphan.com</td>\n",
       "      <td>NaN</td>\n",
       "      <td>Bruce</td>\n",
       "      <td>Wayne</td>\n",
       "    </tr>\n",
       "    <tr>\n",
       "      <th>6</th>\n",
       "      <td>IronMan@avenge.com</td>\n",
       "      <td>NaN</td>\n",
       "      <td>Tony</td>\n",
       "      <td>Stark</td>\n",
       "    </tr>\n",
       "    <tr>\n",
       "      <th>7</th>\n",
       "      <td>Brucey@orphan.com</td>\n",
       "      <td>NaN</td>\n",
       "      <td>Bruce</td>\n",
       "      <td>Wayne</td>\n",
       "    </tr>\n",
       "  </tbody>\n",
       "</table>\n",
       "</div>"
      ],
      "text/plain": [
       "                email      full_name   first    last\n",
       "0         as@gmal.com       Al Singh      Al   Singh\n",
       "1        bl@email.com   Bhosdu Lullu  Bhosdu   Lullu\n",
       "2        bs@email.com  Babblu Capone  Babblu  Capone\n",
       "4  IronMan@avenge.com            NaN    Tony   Stark\n",
       "5   Brucey@orphan.com            NaN   Bruce   Wayne\n",
       "6  IronMan@avenge.com            NaN    Tony   Stark\n",
       "7   Brucey@orphan.com            NaN   Bruce   Wayne"
      ]
     },
     "execution_count": 26,
     "metadata": {},
     "output_type": "execute_result"
    }
   ],
   "source": [
    "sample_df"
   ]
  },
  {
   "cell_type": "code",
   "execution_count": 31,
   "id": "8b365fee-635a-4f86-8999-2b9bc6855a7d",
   "metadata": {},
   "outputs": [],
   "source": [
    "filt_stark = sample_df[\"last\"] == \"Stark\"\n",
    "sample_df.drop(index=sample_df[filt_stark].index, inplace=True)"
   ]
  },
  {
   "cell_type": "code",
   "execution_count": 32,
   "id": "f7251477-c90a-45e5-a882-b86a926c9913",
   "metadata": {},
   "outputs": [
    {
     "data": {
      "text/html": [
       "<div>\n",
       "<style scoped>\n",
       "    .dataframe tbody tr th:only-of-type {\n",
       "        vertical-align: middle;\n",
       "    }\n",
       "\n",
       "    .dataframe tbody tr th {\n",
       "        vertical-align: top;\n",
       "    }\n",
       "\n",
       "    .dataframe thead th {\n",
       "        text-align: right;\n",
       "    }\n",
       "</style>\n",
       "<table border=\"1\" class=\"dataframe\">\n",
       "  <thead>\n",
       "    <tr style=\"text-align: right;\">\n",
       "      <th></th>\n",
       "      <th>email</th>\n",
       "      <th>full_name</th>\n",
       "      <th>first</th>\n",
       "      <th>last</th>\n",
       "    </tr>\n",
       "  </thead>\n",
       "  <tbody>\n",
       "    <tr>\n",
       "      <th>0</th>\n",
       "      <td>as@gmal.com</td>\n",
       "      <td>Al Singh</td>\n",
       "      <td>Al</td>\n",
       "      <td>Singh</td>\n",
       "    </tr>\n",
       "    <tr>\n",
       "      <th>1</th>\n",
       "      <td>bl@email.com</td>\n",
       "      <td>Bhosdu Lullu</td>\n",
       "      <td>Bhosdu</td>\n",
       "      <td>Lullu</td>\n",
       "    </tr>\n",
       "    <tr>\n",
       "      <th>2</th>\n",
       "      <td>bs@email.com</td>\n",
       "      <td>Babblu Capone</td>\n",
       "      <td>Babblu</td>\n",
       "      <td>Capone</td>\n",
       "    </tr>\n",
       "    <tr>\n",
       "      <th>5</th>\n",
       "      <td>Brucey@orphan.com</td>\n",
       "      <td>NaN</td>\n",
       "      <td>Bruce</td>\n",
       "      <td>Wayne</td>\n",
       "    </tr>\n",
       "    <tr>\n",
       "      <th>7</th>\n",
       "      <td>Brucey@orphan.com</td>\n",
       "      <td>NaN</td>\n",
       "      <td>Bruce</td>\n",
       "      <td>Wayne</td>\n",
       "    </tr>\n",
       "  </tbody>\n",
       "</table>\n",
       "</div>"
      ],
      "text/plain": [
       "               email      full_name   first    last\n",
       "0        as@gmal.com       Al Singh      Al   Singh\n",
       "1       bl@email.com   Bhosdu Lullu  Bhosdu   Lullu\n",
       "2       bs@email.com  Babblu Capone  Babblu  Capone\n",
       "5  Brucey@orphan.com            NaN   Bruce   Wayne\n",
       "7  Brucey@orphan.com            NaN   Bruce   Wayne"
      ]
     },
     "execution_count": 32,
     "metadata": {},
     "output_type": "execute_result"
    }
   ],
   "source": [
    "sample_df"
   ]
  },
  {
   "cell_type": "code",
   "execution_count": null,
   "id": "313a6854-c452-4df2-a5ef-ee159de3942e",
   "metadata": {},
   "outputs": [],
   "source": []
  }
 ],
 "metadata": {
  "kernelspec": {
   "display_name": "Python 3 (ipykernel)",
   "language": "python",
   "name": "python3"
  },
  "language_info": {
   "codemirror_mode": {
    "name": "ipython",
    "version": 3
   },
   "file_extension": ".py",
   "mimetype": "text/x-python",
   "name": "python",
   "nbconvert_exporter": "python",
   "pygments_lexer": "ipython3",
   "version": "3.12.2"
  }
 },
 "nbformat": 4,
 "nbformat_minor": 5
}
